{
 "cells": [
  {
   "cell_type": "code",
   "execution_count": 31,
   "metadata": {},
   "outputs": [],
   "source": [
    "import tensorflow as tf\n",
    "from tensorflow.keras import Sequential, regularizers\n",
    "from tensorflow.keras.preprocessing.image import ImageDataGenerator\n",
    "from tensorflow.keras.layers import Flatten, Dense, MaxPooling2D, Dropout, Conv2D, Activation, GlobalAveragePooling2D\n",
    "from tensorflow.image import rgb_to_grayscale\n",
    "import numpy as np\n",
    "import matplotlib.pyplot as plt"
   ]
  },
  {
   "cell_type": "code",
   "execution_count": 21,
   "metadata": {},
   "outputs": [],
   "source": [
    "datagen = ImageDataGenerator(rescale=1./255, validation_split=0.1)"
   ]
  },
  {
   "cell_type": "code",
   "execution_count": 51,
   "metadata": {},
   "outputs": [
    {
     "name": "stdout",
     "output_type": "stream",
     "text": [
      "Found 11849 images belonging to 2 classes.\n",
      "Found 1316 images belonging to 2 classes.\n"
     ]
    }
   ],
   "source": [
    "train_set = datagen.flow_from_directory(\n",
    "    'smile_data', target_size=(64,64), class_mode='binary', subset='training', batch_size=32, color_mode='grayscale'\n",
    ")\n",
    "valid_set = datagen.flow_from_directory(\n",
    "    'smile_data', target_size=(64,64), class_mode='binary', subset='validation', batch_size=32, color_mode='grayscale'\n",
    ")"
   ]
  },
  {
   "cell_type": "code",
   "execution_count": 55,
   "metadata": {},
   "outputs": [
    {
     "name": "stdout",
     "output_type": "stream",
     "text": [
      "Model: \"sequential_17\"\n",
      "_________________________________________________________________\n",
      "Layer (type)                 Output Shape              Param #   \n",
      "=================================================================\n",
      "conv2d_59 (Conv2D)           (None, 62, 62, 32)        320       \n",
      "_________________________________________________________________\n",
      "max_pooling2d_59 (MaxPooling (None, 31, 31, 32)        0         \n",
      "_________________________________________________________________\n",
      "conv2d_60 (Conv2D)           (None, 29, 29, 32)        9248      \n",
      "_________________________________________________________________\n",
      "max_pooling2d_60 (MaxPooling (None, 14, 14, 32)        0         \n",
      "_________________________________________________________________\n",
      "conv2d_61 (Conv2D)           (None, 12, 12, 32)        9248      \n",
      "_________________________________________________________________\n",
      "max_pooling2d_61 (MaxPooling (None, 6, 6, 32)          0         \n",
      "_________________________________________________________________\n",
      "flatten_9 (Flatten)          (None, 1152)              0         \n",
      "_________________________________________________________________\n",
      "dropout_20 (Dropout)         (None, 1152)              0         \n",
      "_________________________________________________________________\n",
      "dense_24 (Dense)             (None, 64)                73792     \n",
      "_________________________________________________________________\n",
      "dropout_21 (Dropout)         (None, 64)                0         \n",
      "_________________________________________________________________\n",
      "dense_25 (Dense)             (None, 1)                 65        \n",
      "=================================================================\n",
      "Total params: 92,673\n",
      "Trainable params: 92,673\n",
      "Non-trainable params: 0\n",
      "_________________________________________________________________\n"
     ]
    }
   ],
   "source": [
    "model = Sequential([\n",
    "    Conv2D(32, (3,3), input_shape=(64,64,1), activation='relu'),\n",
    "    MaxPooling2D(pool_size=(2,2)),\n",
    "    Conv2D(32, (3,3), activation='relu'),\n",
    "    MaxPooling2D(pool_size=(2,2)),\n",
    "    Conv2D(32, (3,3), activation='relu'),\n",
    "    MaxPooling2D(pool_size=(2,2)),\n",
    "    Flatten(),\n",
    "    Dropout(0.3),\n",
    "    Dense(64, activation='relu'),\n",
    "    Dropout(0.3),\n",
    "    Dense(1, activation='sigmoid')\n",
    "])\n",
    "model.summary()"
   ]
  },
  {
   "cell_type": "code",
   "execution_count": 56,
   "metadata": {},
   "outputs": [],
   "source": [
    "model.compile(optimizer='adam', loss='binary_crossentropy', metrics=['accuracy'])"
   ]
  },
  {
   "cell_type": "code",
   "execution_count": 57,
   "metadata": {},
   "outputs": [
    {
     "name": "stdout",
     "output_type": "stream",
     "text": [
      "Epoch 1/10\n",
      "371/371 [==============================] - 26s 71ms/step - loss: 0.4735 - accuracy: 0.7828 - val_loss: 0.2901 - val_accuracy: 0.8792\n",
      "Epoch 2/10\n",
      "371/371 [==============================] - 30s 81ms/step - loss: 0.3041 - accuracy: 0.8824 - val_loss: 0.2665 - val_accuracy: 0.8929\n",
      "Epoch 3/10\n",
      "371/371 [==============================] - 30s 81ms/step - loss: 0.2669 - accuracy: 0.8963 - val_loss: 0.2235 - val_accuracy: 0.9179\n",
      "Epoch 4/10\n",
      "371/371 [==============================] - 33s 90ms/step - loss: 0.2460 - accuracy: 0.9044 - val_loss: 0.2317 - val_accuracy: 0.9157\n",
      "Epoch 5/10\n",
      "371/371 [==============================] - 35s 96ms/step - loss: 0.2351 - accuracy: 0.9113 - val_loss: 0.1985 - val_accuracy: 0.9225\n",
      "Epoch 6/10\n",
      "371/371 [==============================] - 37s 99ms/step - loss: 0.2202 - accuracy: 0.9175 - val_loss: 0.2009 - val_accuracy: 0.9225\n",
      "Epoch 7/10\n",
      "371/371 [==============================] - 34s 91ms/step - loss: 0.2065 - accuracy: 0.9198 - val_loss: 0.1935 - val_accuracy: 0.9240\n",
      "Epoch 8/10\n",
      "371/371 [==============================] - 32s 86ms/step - loss: 0.2001 - accuracy: 0.9218 - val_loss: 0.1871 - val_accuracy: 0.9293\n",
      "Epoch 9/10\n",
      "371/371 [==============================] - 33s 88ms/step - loss: 0.1956 - accuracy: 0.9249 - val_loss: 0.1946 - val_accuracy: 0.9286\n",
      "Epoch 10/10\n",
      "371/371 [==============================] - 34s 92ms/step - loss: 0.1881 - accuracy: 0.9303 - val_loss: 0.1798 - val_accuracy: 0.9278\n"
     ]
    }
   ],
   "source": [
    "history = model.fit(train_set, epochs=10, validation_data=valid_set)"
   ]
  },
  {
   "cell_type": "code",
   "execution_count": 60,
   "metadata": {},
   "outputs": [
    {
     "data": {
      "image/png": "[encoded data removed]",
      "text/plain": [
       "<Figure size 432x288 with 1 Axes>"
      ]
     },
     "metadata": {
      "needs_background": "light"
     },
     "output_type": "display_data"
    }
   ],
   "source": [
    "plt.plot(history.history['accuracy'])\n",
    "plt.plot(history.history['val_accuracy'])\n",
    "plt.title('Accuracy vs. epochs')\n",
    "plt.ylabel('Accuracy')\n",
    "plt.xlabel('Epoch')\n",
    "plt.legend(['Training', 'Validation'], loc='lower right')\n",
    "plt.show()"
   ]
  },
  {
   "cell_type": "code",
   "execution_count": 61,
   "metadata": {},
   "outputs": [],
   "source": [
    "model.save('CustomSmileDetector.h5')"
   ]
  },
  {
   "cell_type": "code",
   "execution_count": null,
   "metadata": {},
   "outputs": [],
   "source": []
  }
 ],
 "metadata": {
  "kernelspec": {
   "display_name": "Python 3",
   "language": "python",
   "name": "python3"
  },
  "language_info": {
   "codemirror_mode": {
    "name": "ipython",
    "version": 3
   },
   "file_extension": ".py",
   "mimetype": "text/x-python",
   "name": "python",
   "nbconvert_exporter": "python",
   "pygments_lexer": "ipython3",
   "version": "3.7.6"
  }
 },
 "nbformat": 4,
 "nbformat_minor": 4
}
